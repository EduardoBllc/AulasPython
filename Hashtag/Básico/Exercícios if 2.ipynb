{
 "cells": [
  {
   "cell_type": "markdown",
   "metadata": {},
   "source": [
    "<h1>Exercício</h1>\n",
    "<h4>Criar um sistema de estoque, em que se o produto cadastrado não possui a quantidade<br> mínima exigida pelo estoque,\n",
    "deverá ser solicitado para equipe de compras</h4>"
   ]
  },
  {
   "cell_type": "markdown",
   "metadata": {},
   "source": [
    "----------------------------------------------"
   ]
  },
  {
   "cell_type": "markdown",
   "metadata": {},
   "source": [
    "<h1>Resolução:</h1>"
   ]
  },
  {
   "cell_type": "markdown",
   "metadata": {},
   "source": [
    "Criando a lista de dicionários que vão armazenar as categorias e os produtos:"
   ]
  },
  {
   "cell_type": "code",
   "execution_count": null,
   "metadata": {},
   "outputs": [],
   "source": [
    "# determinar as categorias e o estoque mínimo de cada categoria em um dicionário\n",
    "categorias = [{'nome':'alimentos','produtos':[],'min_estoque':50},\n",
    "              {'nome':'bebidas','produtos':[],'min_estoque':75},\n",
    "              {'nome':'limpeza','produtos':[],'min_estoque':30}]"
   ]
  },
  {
   "cell_type": "markdown",
   "metadata": {},
   "source": [
    "Criando as funções que serão utilizadas:"
   ]
  },
  {
   "cell_type": "code",
   "execution_count": null,
   "metadata": {},
   "outputs": [],
   "source": [
    "# Função que retorna uma lista com o nome de cada categoria\n",
    "def nome_categorias():\n",
    "    return [categoria['nome'] for categoria in categorias]\n",
    "\n",
    "# Função de cadastro de produto\n",
    "def cadastro(categoria: str, produto: str, quantidade: int):   \n",
    "    # Captura a categoria e transforma no seu índice utilizando a função acima\n",
    "    categoria_index = nome_categorias().index(categoria.lower())\n",
    "    # Adiciona o produto em forma de um dicionário contendo nome e quantidade na lista de produtos da categoria\n",
    "    categorias[categoria_index]['produtos'].append({'nome':produto,'qtd':quantidade})"
   ]
  },
  {
   "cell_type": "code",
   "execution_count": 18,
   "metadata": {},
   "outputs": [],
   "source": [
    "while True:\n",
    "    # Solicitando ao usuário a categoria do produto\n",
    "    categoria = input('Qual a categoria do produto que deseja cadastrar? ').lower()\n",
    "    \n",
    "    # Verificando se a categoria existe na lsita de nomes de categoria\n",
    "    if categoria in nome_categorias():\n",
    "\n",
    "        # Solicitando ao usuário o nome e a quantidade do produto a ser cadastrado\n",
    "        produto = input('Digite o nome do produto: ').title()\n",
    "        quantidade = input('Digite a quantidade ')\n",
    "\n",
    "        # Se os campos não estiverem vazios e a quantidade for um número\n",
    "        if produto and quantidade.isnumeric():\n",
    "            cadastro(categoria, produto, int(quantidade)) # Realiza o cadastro com os dados fornecidos\n",
    "        # Caso algum campo estiver vazio ou a quantidade não for numérica\n",
    "        else:\n",
    "            print('Digite o nome e a quantidade corretamente!') # Avisará o usuário que fez algo errado\n",
    "            pass  # Passa, voltando ao início do loop\n",
    "\n",
    "        # Verificando se o usuário deseja cadastrar mais algum produto\n",
    "        verificacao = input('Deseja continuar cadastrando? S/N').upper()\n",
    "\n",
    "        # Se a repostas for \"N\" \n",
    "        if(verificacao == 'N'):\n",
    "            break # Interrompe o loop, se não for \"N\", vai reiniciar o loop\n",
    "\n",
    "    # Se a categoria digitada lá em cima não existir\n",
    "    else:\n",
    "        print('Digite uma das categorias existentes: ') # Vai informar ao usuário que digitou uma categoria que não existe\n",
    "        for nome in nome_categorias(): print(nome) # E imprime as categorias existentes"
   ]
  },
  {
   "cell_type": "code",
   "execution_count": 19,
   "metadata": {},
   "outputs": [
    {
     "name": "stdout",
     "output_type": "stream",
     "text": [
      "[{'nome': 'alimentos', 'produtos': [{'nome': 'Pepsi', 'qtd': 50}, {'nome': 'Azeite', 'qtd': 100}, {'nome': 'Manteiga', 'qtd': 50}], 'min_estoque': 50}, {'nome': 'bebidas', 'produtos': [{'nome': 'Água', 'qtd': 70}, {'nome': 'Arroz', 'qtd': 50}, {'nome': 'Suco De Laranja', 'qtd': 80}, {'nome': 'Cerveja', 'qtd': 70}, {'nome': 'Vinho', 'qtd': 50}], 'min_estoque': 75}, {'nome': 'limpeza', 'produtos': [{'nome': 'Limpa Vidros', 'qtd': 20}, {'nome': 'Sabonete', 'qtd': 90}, {'nome': 'Sabão Em Pó', 'qtd': 70}], 'min_estoque': 30}]\n"
     ]
    }
   ],
   "source": [
    "print(categorias)"
   ]
  },
  {
   "cell_type": "code",
   "execution_count": 12,
   "metadata": {},
   "outputs": [],
   "source": [
    "categorias.clear()"
   ]
  },
  {
   "cell_type": "code",
   "execution_count": 23,
   "metadata": {},
   "outputs": [
    {
     "name": "stdout",
     "output_type": "stream",
     "text": [
      "Produtos cadastrados\n",
      "Alimentos:\n",
      "Pepsi: 50 unidades\n",
      "Azeite: 100 unidades\n",
      "Manteiga: 50 unidades\n",
      "-------------\n",
      "Bebidas:\n",
      "Água: 70 unidades\n",
      "Arroz: 50 unidades\n",
      "Suco De Laranja: 80 unidades\n",
      "Cerveja: 70 unidades\n",
      "Vinho: 50 unidades\n",
      "-------------\n",
      "Limpeza:\n",
      "Limpa Vidros: 20 unidades\n",
      "Sabonete: 90 unidades\n",
      "Sabão Em Pó: 70 unidades\n",
      "-------------\n",
      "\n",
      "Produtos a serem solicitados\n",
      "Água, estoque atual: 70 unidades\n",
      "Arroz, estoque atual: 50 unidades\n",
      "Cerveja, estoque atual: 70 unidades\n",
      "Vinho, estoque atual: 50 unidades\n",
      "Limpa Vidros, estoque atual: 20 unidades\n"
     ]
    }
   ],
   "source": [
    "\n",
    "\n",
    "# Criando um print com uma tabela de produtos cadastrados por categoria\n",
    "print('Produtos cadastrados')\n",
    "for categoria in categorias:\n",
    "    print(categoria['nome'].title() + ':')\n",
    "    for produto in categoria['produtos']:\n",
    "        print(f'{produto[\"nome\"]}: {produto[\"qtd\"]} unidades')\n",
    "    print('-------------')\n",
    "print()\n",
    "# Informando quais produtos precisam ser solicitados para preencher estoque\n",
    "print('Produtos a serem solicitados')\n",
    "for categoria in categorias:\n",
    "    for produto in categoria['produtos']:\n",
    "        if produto['qtd'] < categoria['min_estoque']:\n",
    "            print(f'{produto[\"nome\"]}, estoque atual: {produto[\"qtd\"]} unidades')\n"
   ]
  },
  {
   "cell_type": "code",
   "execution_count": null,
   "metadata": {},
   "outputs": [],
   "source": []
  }
 ],
 "metadata": {
  "kernelspec": {
   "display_name": "Python 3",
   "language": "python",
   "name": "python3"
  },
  "language_info": {
   "codemirror_mode": {
    "name": "ipython",
    "version": 3
   },
   "file_extension": ".py",
   "mimetype": "text/x-python",
   "name": "python",
   "nbconvert_exporter": "python",
   "pygments_lexer": "ipython3",
   "version": "3.11.1"
  }
 },
 "nbformat": 4,
 "nbformat_minor": 4
}
